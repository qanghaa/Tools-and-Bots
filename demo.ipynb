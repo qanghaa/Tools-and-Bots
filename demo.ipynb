{
 "cells": [
  {
   "cell_type": "code",
   "execution_count": 1,
   "id": "0b928f15-8de7-405e-adfc-a7c5768683b2",
   "metadata": {},
   "outputs": [],
   "source": [
    "import requests\n",
    "import os\n",
    "from bs4 import BeautifulSoup\n",
    "import time\n",
    "import re\n",
    "import json\n"
   ]
  },
  {
   "cell_type": "code",
   "execution_count": 8,
   "id": "5e9cc6d3-2c51-4398-89e7-216b040755fb",
   "metadata": {},
   "outputs": [
    {
     "name": "stdout",
     "output_type": "stream",
     "text": [
      "[REVIEW] 0\n",
      "user_name Shu Ling T.\n",
      "location Singapore, Singapore\n",
      "user_url https://www.yelp.com/user_details?userid=L5qnan1MZhuF8LetcU-Ziw\n",
      "comment_content The McCafé at Tampines Mall deserves some honorable mention! It has one of the most relaxing and chill environment a McCafé can get. For this outlet, the McDonald&#39;s side and the McCafé is separated, which gives a sense of exclusivity as you enjoy a good cup of coffee. Service wise, it&#39;s thumbs up! Even if you order just a simple cup of flat white, the barista will at least bother to do a little latte art for you (this service is not consistently seen at other McCafé outlets). On the downside, this is not a 24 hour outlet and it can be crowded on weekends and Friday evenings. Other than that, thumbs up for the superb service!\n",
      "photos [{'src': 'https://s3-media0.fl.yelpcdn.com/bphoto/04Fn1HKc0A1_GFE4Hu0oGQ/300s.jpg', 'link': '/biz_photos/mcdonalds-singapore-40?reviewid=9QnpJ_5CarlzCPyS5SDOUA&select=04Fn1HKc0A1_GFE4Hu0oGQ', 'altText': \"Photo of McDonald's - Singapore, Singapore. Mccafe Tampines\", 'width': 300, 'height': 300, 'caption': 'Mccafe Tampines'}]\n",
      "[REVIEW] 1\n",
      "user_name Stephanie C.\n",
      "location Singapore, Singapore\n",
      "user_url https://www.yelp.com/user_details?userid=_6zTmwRscQUpbyo8etB0nQ\n",
      "comment_content I love to frequent McCafe for their MELTS. Chocolate Melts, Cinnamon Melts.. ohhh so sinful. It&#39;s not only cheap and affordable, the people here are nice. I love their iced tea and their mango smoothie as well. <br><br>If you are looking for a good place to cram at McCafe here will be a good place. On the downside for me, this place is sadly a little far...\n",
      "photos [{'src': 'https://s3-media0.fl.yelpcdn.com/bphoto/6lpxBjtnuwHBU1JiXIhcXw/300s.jpg', 'link': '/biz_photos/mcdonalds-singapore-40?reviewid=-soDqKUaTRMB06D_Eqmu3w&select=6lpxBjtnuwHBU1JiXIhcXw', 'altText': \"Photo of McDonald's - Singapore, Singapore. Chocolate Meltz\", 'width': 300, 'height': 300, 'caption': 'Chocolate Meltz'}]\n"
     ]
    }
   ],
   "source": [
    "req = requests.get('https://www.yelp.com/biz/Gz_ZNbQJzmG6BEhp_uedOA/props')\n",
    "res = req.json()\n",
    "reviews = res['bizDetailsPageProps']['reviewFeedQueryProps']['reviews']\n",
    "for i, review in enumerate(reviews):\n",
    "    print(\"[REVIEW]\", i)\n",
    "    user = review['user']\n",
    "    print(\"user_name\", user['markupDisplayName'])\n",
    "    print(\"location\", user['displayLocation'])\n",
    "    print(\"user_url\", f\"https://www.yelp.com{user['userUrl']}\")\n",
    "    comment = review['comment']\n",
    "    print(\"comment_content\", comment['text'])\n",
    "    rating = review['rating']\n",
    "    photos = review['photos']\n",
    "    print('photos', photos)"
   ]
  }
 ],
 "metadata": {
  "kernelspec": {
   "display_name": "Python 3",
   "language": "python",
   "name": "python3"
  },
  "language_info": {
   "codemirror_mode": {
    "name": "ipython",
    "version": 3
   },
   "file_extension": ".py",
   "mimetype": "text/x-python",
   "name": "python",
   "nbconvert_exporter": "python",
   "pygments_lexer": "ipython3",
   "version": "3.8.8"
  }
 },
 "nbformat": 4,
 "nbformat_minor": 5
}
