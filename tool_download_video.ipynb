{
 "cells": [
  {
   "cell_type": "code",
   "execution_count": 2,
   "id": "cd2d4c7c-25ba-4ca5-ba25-0cdeabd5ffe1",
   "metadata": {},
   "outputs": [],
   "source": [
    "# importing the module \n",
    "import pytube   \n",
    "# where to save \n",
    "SAVE_PATH = r\"C:\\Users\\quang\\Desktop\\Project\\JupyterNotebook\\Course\\Store_video\"\n",
    "link_course = [\n",
    "    r'https://youtu.be/IGUJHnoGpxM',\n",
    "]\n",
    "for link in link_course:\n",
    "    yt = pytube.YouTube(link).streams.filter(res='720p').first().download(SAVE_PATH)\n",
    "print(yt)"
   ]
  },
  {
   "cell_type": "code",
   "execution_count": 27,
   "id": "d779ea51-89d0-4133-bf20-96d247cc86af",
   "metadata": {},
   "outputs": [
    {
     "name": "stdout",
     "output_type": "stream",
     "text": [
      "['https://www.youtube.com/watch?v=RjaZNiHcX8Y', 'https://www.youtube.com/watch?v=6UBwSFYNbic']\n"
     ]
    }
   ],
   "source": [
    "play_list = pytube.Playlist(\"https://youtu.be/RjaZNiHcX8Y?list=PLR6yIu26zcX81hrW8cWcuErdSxmuggyW5\")\n",
    "print(play_list.video_urls)"
   ]
  },
  {
   "cell_type": "markdown",
   "id": "beaadeb8-c2d5-4eb3-af39-fe8d9aca2ddd",
   "metadata": {},
   "source": [
    "Tool Download video from Youtube with 10 line of code"
   ]
  }
 ],
 "metadata": {
  "kernelspec": {
   "display_name": "Python 3",
   "language": "python",
   "name": "python3"
  },
  "language_info": {
   "codemirror_mode": {
    "name": "ipython",
    "version": 3
   },
   "file_extension": ".py",
   "mimetype": "text/x-python",
   "name": "python",
   "nbconvert_exporter": "python",
   "pygments_lexer": "ipython3",
   "version": "3.8.8"
  }
 },
 "nbformat": 4,
 "nbformat_minor": 5
}
