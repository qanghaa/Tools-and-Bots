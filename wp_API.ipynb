{
 "cells": [
  {
   "cell_type": "markdown",
   "id": "a92097ba-38d6-41b9-b818-7cfac18670ba",
   "metadata": {},
   "source": [
    "Categories"
   ]
  },
  {
   "cell_type": "markdown",
   "id": "137dff87-182e-4cfc-be64-30798345ffdd",
   "metadata": {},
   "source": [
    "POST"
   ]
  },
  {
   "cell_type": "code",
   "execution_count": 1,
   "id": "7f85dffd-b9c9-4ee1-beed-2bd82934e34c",
   "metadata": {},
   "outputs": [],
   "source": [
    "import requests\n",
    "import base64\n",
    "import json\n",
    "def createCategories(category):\n",
    "    url = \"https://site_name/wp-json/wp/v2/categories\"\n",
    "    user = \"aaaaaa\"\n",
    "    password = \"ksuA JMVE vQ3i tlaG SGNn jfPF\".replace(\" \",\"\")\n",
    "    credentials = f\"{user} : {password}\"\n",
    "    token = base64.b64encode(credentials.encode())\n",
    "    payload = {\n",
    "        \"name\": category,\n",
    "#         \"slug\": categories.lower(),\n",
    "#         \"count\": 0,\n",
    "#         \"description\":\"You can add some category description here.\"\n",
    "    }\n",
    "    header = {'Authorization': f'Basic {token.decode(\"utf-8\")}'}\n",
    "    responce = requests.request(\"DELETE\", url, headers=header, json = payload)\n",
    "    \n",
    "    if responce.status_code == 201:\n",
    "        id = json.loads(responce.text)[\"id\"]\n",
    "        return {category:id}\n",
    "    else:\n",
    "        print(\"Category đã tồn tại!!!\")\n",
    "        "
   ]
  },
  {
   "cell_type": "markdown",
   "id": "72c94105-853b-41b5-9aed-bd99369ecb5a",
   "metadata": {},
   "source": [
    "GET"
   ]
  },
  {
   "cell_type": "code",
   "execution_count": 32,
   "id": "634e4491-d5e6-4c1b-9857-bd32b5baa59c",
   "metadata": {},
   "outputs": [],
   "source": [
    "url = \"https://site_name/wp-json/wp/v2/categories\"\n",
    "    # https://site_name/wp-admin/edit.php\n",
    "user = \"username\"\n",
    "password = \"a9bO c0j4 VM34 SIMm S8OC tvc6\".replace(\" \",\"\")\n",
    "credentials = f\"{user} : {password}\"\n",
    "token = base64.b64encode(credentials.encode())\n",
    "def getCategories():\n",
    "    payload ={\n",
    "        \"per_page\":100\n",
    "    }\n",
    "    header = {'Authorization': f'Basic {token.decode(\"utf-8\")}'}\n",
    "    responce = requests.request(\"GET\", url, headers=header,json = payload) \n",
    "    Categories = json.loads(responce.text)\n",
    "\n",
    "    # 1 dict để chứa dữ liệu cho file json \n",
    "    jsonCategories = {}\n",
    "    # # lấy id, name của categories \n",
    "    for category in Categories: jsonCategories[category[\"name\"]] = category[\"id\"]\n",
    "    return jsonCategories\n",
    "# getCategories()"
   ]
  },
  {
   "cell_type": "code",
   "execution_count": 17,
   "id": "30443bbc-c8e4-488e-a22b-6d402bebfa4b",
   "metadata": {},
   "outputs": [
    {
     "name": "stdout",
     "output_type": "stream",
     "text": [
      "69\n"
     ]
    }
   ],
   "source": [
    "print(len(jsonCategories.keys()))"
   ]
  },
  {
   "cell_type": "markdown",
   "id": "679e300b-4533-4553-84af-d431a93a4985",
   "metadata": {},
   "source": [
    "POST BÀI POSTS"
   ]
  },
  {
   "cell_type": "code",
   "execution_count": 12,
   "id": "32ea4d9e-7c2e-4e55-980f-5ca154cb3441",
   "metadata": {},
   "outputs": [
    {
     "name": "stdout",
     "output_type": "stream",
     "text": [
      "aGFueXV3b3JtIDogejFEcEV1SXhYSFV3TW5TZjdjampHSHJF\n",
      "401\n"
     ]
    }
   ],
   "source": [
    "import requests\n",
    "import base64\n",
    "import json\n",
    "def createPost(payload):\n",
    "    url = \"https://site_name/wp-json/wp/v2/\"\n",
    "    user = \"user_name\"\n",
    "    password = \"z1Dp EuIx XHUw MnSf 7cjj GHrE\".replace(\" \",\"\")\n",
    "    credentials = f\"{user} : {password}\"\n",
    "    token = base64.b64encode(credentials.encode())\n",
    "    print(token.decode(\"utf-8\"))\n",
    "    header = {\n",
    "                'Authorization': f'Basic {token.decode(\"utf-8\")}',\n",
    "                'Content-Type': 'application/json'\n",
    "        }\n",
    "    responce = requests.request(\"POST\", f\"{url}posts\", headers=header, json = payload)\n",
    "    print(responce.status_code)\n",
    "    return responce\n",
    "#     id = json.loads(responce.text)[\"id\"]\n",
    "#     return id\n",
    "\n",
    "payload = {\n",
    "        \"status\":\"publish\",\n",
    "        \"title\":\"demo post 3\",\n",
    "        \"content\":\"demo post 3 có ảnh sử dụng featrured media\",\n",
    "#         \"content\":\"\"\" demo post 1 có ảnh đính kèm trên content\n",
    "#         <img class=\"book-cover-image\" src=\"https://res.cloudinary.com/bookbub/image/upload/t_ci_ar_6:9_scaled,f_auto,q_auto,dpr_1,c_scale,w_405/v1622257163/pro_pbid_4521607.jpg\" alt=\"Book cover for The Exiles by Christina Baker Kline\">\"\"\",\n",
    "        \"featured_media\": 417,  \n",
    "        \n",
    "    }\n",
    "\n",
    "# link = \"https://res.cloudinary.com/bookbub/image/upload/t_ci_ar_6:9_scaled,f_auto,q_auto,dpr_1,c_scale,w_405/v1622257163/pro_pbid_4521607.jpg\"\n",
    "r = createPost(payload)"
   ]
  },
  {
   "cell_type": "markdown",
   "id": "57c8096a-a7cd-4644-a05f-13f970ce118d",
   "metadata": {},
   "source": [
    "Create USER"
   ]
  },
  {
   "cell_type": "code",
   "execution_count": 3,
   "id": "b193dee6-466d-42ef-89c1-ac0eb4aef8ca",
   "metadata": {},
   "outputs": [],
   "source": [
    "import requests\n",
    "import base64\n",
    "import json\n",
    "def createUser():\n",
    "    url = \"https://site_name/wp-json/wp/v2/users/43532\"\n",
    "    # https://site_name/wp-admin/edit.php\n",
    "    user = \"user_name\"\n",
    "    password = \"a9bO c0j4 VM34 SIMm S8OC tvc6\".replace(\" \",\"\")\n",
    "    credentials = f\"{user} : {password}\"\n",
    "    token = base64.b64encode(credentials.encode())\n",
    "#     payload = {\n",
    "#         \"username\": name,\n",
    "#         \"password\": name.lower().replace(\" \",\"\"),\n",
    "#         \"email\": name.lower().replace(\" \",\"\")+\"@gmail.com\",\n",
    "#         'roles': ['author'],\n",
    "#     }\n",
    "    header = {'Authorization': f'Basic {token.decode(\"utf-8\")}'}\n",
    "    responce = requests.request(\"DELETE\", url, headers=header)\n",
    "#     id_ = json.loads(responce.text)[\"id\"]\n",
    "#     return {name:id_}\n",
    "    return responce.text\n",
    "data = createUser()"
   ]
  },
  {
   "cell_type": "code",
   "execution_count": 4,
   "id": "930ba598-713b-4a59-bf20-c561fd2b2148",
   "metadata": {},
   "outputs": [
    {
     "name": "stdout",
     "output_type": "stream",
     "text": [
      "{\"code\":\"rest_missing_callback_param\",\"message\":\"Missing parameter(s): reassign\",\"data\":{\"status\":400,\"params\":[\"reassign\"]}}\n"
     ]
    }
   ],
   "source": [
    "print(data)"
   ]
  },
  {
   "cell_type": "code",
   "execution_count": 37,
   "id": "32a10943-2898-4db2-8f81-fd33712330c3",
   "metadata": {},
   "outputs": [],
   "source": [
    "url = \"https://site_name/wp-json/wp/v2/\"\n",
    "\n",
    "def getUser():\n",
    "    payload = {\n",
    "            \"per_page\":100,\n",
    "    }\n",
    "    \n",
    "    header = {'Authorization': f'Basic {token.decode(\"utf-8\")}'}\n",
    "    jsonUser = {}\n",
    "    i = 0\n",
    "    \n",
    "    while True:\n",
    "        i += 1\n",
    "        responce = requests.request(\"GET\", f\"{url}users?_embed&per_page=100&page={str(i)}\", headers=header,json = payload) \n",
    "        Users = json.loads(responce.text)\n",
    "        if not Users:\n",
    "            break\n",
    "        for user in Users: jsonUser[user[\"name\"]] = user[\"id\"]\n",
    "    return jsonUser\n",
    "\n",
    "data = getUser()"
   ]
  },
  {
   "cell_type": "code",
   "execution_count": 38,
   "id": "8a72e0df-6715-4c82-9b8c-1b0fff6f0c6c",
   "metadata": {},
   "outputs": [
    {
     "name": "stdout",
     "output_type": "stream",
     "text": [
      "14644\n"
     ]
    }
   ],
   "source": [
    "print(len(data))"
   ]
  },
  {
   "cell_type": "markdown",
   "id": "65420445-5ed5-45d9-84b5-f7ab38edcb71",
   "metadata": {},
   "source": [
    "POST MEDIA"
   ]
  },
  {
   "cell_type": "code",
   "execution_count": 8,
   "id": "e4851d1c-b10f-4cf0-a638-4be240d23406",
   "metadata": {},
   "outputs": [],
   "source": [
    "import requests\n",
    "import base64\n",
    "import json\n",
    "def createImage(srcImage):\n",
    "    url = \"https://site_name/wp-json/wp/v2/media\"\n",
    "    # https://site_name/wp-admin/edit.php\n",
    "    user = \"toanld\"\n",
    "    password = \"wluS Y1NN Uhh7 CBt8 hU2i hoXx\".replace(\" \",\"\")\n",
    "    credentials = f\"{user} : {password}\"\n",
    "    token = base64.b64encode(credentials.encode())\n",
    "    \n",
    "    data = requests.get(srcImage).content\n",
    "    \n",
    "    headers = {\n",
    "              'cache-control': 'no-cache',\n",
    "              'Content-Disposition' : 'attachment; filename=\"image.jpg\"',\n",
    "              'Accept' : 'application/json',\n",
    "              'Authorization': f'Basic {token.decode(\"utf-8\")}',\n",
    "              'content-type': 'image/jpg',\n",
    "            }\n",
    "\n",
    "    response = requests.request(\"POST\", url, headers=headers, data=data)\n",
    "#     id = json.loads(responce.text)[\"id\"]\n",
    "    return response.text\n",
    "\n",
    "# createImage(\"https://site_name/wp-content/uploads/2021/07/120202630_3984914551519920_1582909791309823804_o-1.jpg\")\n"
   ]
  },
  {
   "cell_type": "markdown",
   "id": "5905b98f-0b91-40ba-a155-abb78ce9970b",
   "metadata": {},
   "source": [
    "GET MEDIA"
   ]
  },
  {
   "cell_type": "code",
   "execution_count": 36,
   "id": "cb9d9260-cef5-4f82-a4a0-917b8debecde",
   "metadata": {},
   "outputs": [],
   "source": [
    "import requests\n",
    "import base64\n",
    "import json\n",
    "def createImage():\n",
    "    url = \"https://site_name/wp-json/wp/v2/media/412\"\n",
    "    # https://site_name/wp-admin/edit.php\n",
    "    user = \"user_name\"\n",
    "    password = \"l1b0 3gaD RFWT jyVa PQL2 2fRM\".replace(\" \",\"\")\n",
    "    credentials = f\"{user} : {password}\"\n",
    "    token = base64.b64encode(credentials.encode())\n",
    "    payload = {  \n",
    "        \n",
    "    }\n",
    "    header = {'Authorization': f'Basic {token.decode(\"utf-8\")}'}\n",
    "    responce = requests.request(\"GET\", url, headers=header,json = payload)\n",
    "#     id = json.loads(responce.text)[\"id\"]\n",
    "    return json.loads(responce.text)\n",
    "img = createImage()"
   ]
  },
  {
   "cell_type": "markdown",
   "id": "9e68b02e-79f8-4a89-9eec-ab4f875d4148",
   "metadata": {},
   "source": [
    "GET LINK FROM SITEMAP"
   ]
  },
  {
   "cell_type": "code",
   "execution_count": 9,
   "id": "4acfce56-861a-47c5-a721-95bb8616aed6",
   "metadata": {},
   "outputs": [],
   "source": [
    "import requests\n",
    "from io import BytesIO\n",
    "import gzip\n",
    "import xml.etree.ElementTree as ET\n",
    "import re\n",
    "   \n",
    "def get_sitemap(link):\n",
    "    r = requests.get(link,stream=True)\n",
    "    g=gzip.GzipFile(fileobj=BytesIO(r.content))\n",
    "\n",
    "    tree = ET.parse(g)\n",
    "    root = tree.getroot()\n",
    "\n",
    "    lst_link = []\n",
    "    for elem in root:\n",
    "        for subelem in elem:\n",
    "            link = subelem.text\n",
    "            try:\n",
    "                if re.search('http', link):\n",
    "                    lst_link.append(link)\n",
    "            except TypeError:\n",
    "                pass\n",
    "    return lst_link\n",
    "\n",
    "def return_link(link_sitemap):\n",
    "    lst_link = []\n",
    "    lst_sitemap = get_sitemap(link_sitemap)\n",
    "    for sitemap in lst_sitemap:\n",
    "      # print(get_sitemap(sitemap))\n",
    "        lst_link.extend(get_sitemap(sitemap))\n",
    "\n",
    "    lst_link_check = []\n",
    "    for link in lst_link:\n",
    "        if '/books/' in link:\n",
    "            lst_link_check.append(link)\n",
    "    return lst_link_check\n",
    "urls = return_link('https://www.bookbub.com/sitemap.xml.gz')"
   ]
  },
  {
   "cell_type": "markdown",
   "id": "22cf970c-55a7-41c7-adef-8f52dbd36444",
   "metadata": {},
   "source": [
    "get link from sitemap -> check link -> crawl -> get id category -> get id author -> get id image -> post post -> "
   ]
  },
  {
   "cell_type": "code",
   "execution_count": 14,
   "id": "cab05c0d-bf76-44aa-ba24-076c79a9e4da",
   "metadata": {},
   "outputs": [],
   "source": [
    "# print(urls[800:900])"
   ]
  },
  {
   "cell_type": "markdown",
   "id": "316c0932-946b-40f3-826d-ae1f543a3045",
   "metadata": {},
   "source": [
    "DELETE POST\n"
   ]
  },
  {
   "cell_type": "code",
   "execution_count": 9,
   "id": "93ad2822-7431-4be5-957b-fdaa5e97b3ad",
   "metadata": {},
   "outputs": [],
   "source": [
    "import requests\n",
    "import base64\n",
    "import json\n",
    "def deletePost(id):\n",
    "\n",
    "    url = \"https://site_name/wp-json/wp/v2/\"\n",
    "    # https://site_name/wp-admin/edit.php\n",
    "    user = \"user_name\"\n",
    "    password = \"l1b0 3gaD RFWT jyVa PQL2 2fRM\".replace(\" \",\"\")\n",
    "    credentials = f\"{user} : {password}\"\n",
    "    token = base64.b64encode(credentials.encode())\n",
    "    headers = {\n",
    "                'Authorization': f'Basic {token.decode(\"utf-8\")}',     \n",
    "        }\n",
    "    payload = {\n",
    "        \"id\":id\n",
    "    }\n",
    "    responce = requests.request(\"DELETE\", f\"{url}posts/{str(id)}\", headers=headers, json = payload)\n",
    "    \n",
    "    # https://site_name/wp-admin/edit.php\n",
    "    return responce\n"
   ]
  },
  {
   "cell_type": "markdown",
   "id": "8fef2ad5-c7b9-4cf0-bbd8-cda6ed95d73a",
   "metadata": {},
   "source": [
    "GET POST"
   ]
  },
  {
   "cell_type": "code",
   "execution_count": 4,
   "id": "1a0a0074-1629-489a-b552-f8dd1943eb57",
   "metadata": {},
   "outputs": [
    {
     "name": "stdout",
     "output_type": "stream",
     "text": [
      "{'id': 15418, 'date': '2021-08-31T19:35:36', 'date_gmt': '2021-08-31T12:35:36', 'guid': {'rendered': 'https://reviewbook.org/the-expatriates/'}, 'modified': '2021-08-31T19:35:36', 'modified_gmt': '2021-08-31T12:35:36', 'slug': 'the-expatriates', 'status': 'publish', 'type': 'post', 'link': 'https://reviewbook.org/the-expatriates/', 'title': {'rendered': 'The Expatriates'}, 'content': {'rendered': '<p>**&#8221;Raise a glass: The first great book-club novel of 2016 has arrived.” —USA Today, 4/4 stars<br />\\n“A female, funny Henry James in Asia, Janice Y. K. Lee is vividly good on the subject of Americans abroad.”** **—The New York Times Book Review<br />\\n“Sex and the City meets Lost in Translation.” —The Skimm**<br />\\nJanice Y. K. Lee’s New York Times bestselling debut, The Piano Teacher, was called “immensely satisfying” by People, “intensely readable” by O, The Oprah Magazine, and “a rare and exquisite story” by Elizabeth Gilbert. Now, in her long-awaited new novel, Lee explores with devastating poignancy the emotions, identities, and relationships of three very different American women living in the same small expat community in Hong Kong.<br />\\nMercy, a young Korean American and recent Columbia graduate, is adrift, undone by a terrible incident in her recent past. Hilary, a wealthy housewife, is haunted by her struggle to have a child, something she believes could save her foundering marriage. Meanwhile, Margaret, once a happily married mother of three, questions her maternal identity in the wake of a shattering loss. As each woman struggles with her own demons, their lives collide in ways that have irreversible consequences for them all. Atmospheric, moving, and utterly compelling, The Expatriates confirms Lee as an exceptional talent and one of our keenest observers of women’s inner lives.</p>\\n', 'protected': False}, 'excerpt': {'rendered': '<p>**&#8221;Raise a glass: The first great book-club novel of 2016 has arrived.” —USA Today, 4/4 stars “A female, funny Henry James in Asia, Janice Y. K. Lee is vividly good on the subject of Americans abroad.”** **—The New York Times Book Review “Sex and the City meets Lost in Translation.” —The Skimm** Janice Y. K.</p>\\n', 'protected': False}, 'author': 44497, 'featured_media': 15417, 'comment_status': 'open', 'ping_status': 'open', 'sticky': False, 'template': '', 'format': 'standard', 'meta': [], 'categories': [1261, 1258, 1260], 'tags': [], 'amp_enabled': True, '_links': {'self': [{'href': 'https://reviewbook.org/wp-json/wp/v2/posts/15418'}], 'collection': [{'href': 'https://reviewbook.org/wp-json/wp/v2/posts'}], 'about': [{'href': 'https://reviewbook.org/wp-json/wp/v2/types/post'}], 'author': [{'embeddable': True, 'href': 'https://reviewbook.org/wp-json/wp/v2/users/44497'}], 'replies': [{'embeddable': True, 'href': 'https://reviewbook.org/wp-json/wp/v2/comments?post=15418'}], 'version-history': [{'count': 0, 'href': 'https://reviewbook.org/wp-json/wp/v2/posts/15418/revisions'}], 'wp:featuredmedia': [{'embeddable': True, 'href': 'https://reviewbook.org/wp-json/wp/v2/media/15417'}], 'wp:attachment': [{'href': 'https://reviewbook.org/wp-json/wp/v2/media?parent=15418'}], 'wp:term': [{'taxonomy': 'category', 'embeddable': True, 'href': 'https://reviewbook.org/wp-json/wp/v2/categories?post=15418'}, {'taxonomy': 'post_tag', 'embeddable': True, 'href': 'https://reviewbook.org/wp-json/wp/v2/tags?post=15418'}], 'curies': [{'name': 'wp', 'href': 'https://api.w.org/{rel}', 'templated': True}]}}\n"
     ]
    }
   ],
   "source": [
    "import requests\n",
    "import base64\n",
    "import json\n",
    "\n",
    "\n",
    "url = \"https://site_name/wp-json/wp/v2/\"\n",
    "# https://site_name/wp-admin/edit.php\n",
    "user = \"user_name\"\n",
    "password = \"l1b0 3gaD RFWT jyVa PQL2 2fRM\".replace(\" \",\"\")\n",
    "credentials = f\"{user} : {password}\"\n",
    "token = base64.b64encode(credentials.encode())\n",
    "\n",
    "def getPosts():\n",
    "\n",
    "    header = {\n",
    "                'Authorization': f'Basic {token.decode(\"utf-8\")}',     \n",
    "        }\n",
    "    payload = {\n",
    "        \"per_page\":100,\n",
    "    }\n",
    "    responce = requests.request(\"GET\", f\"{url}posts/15418\", headers=header, json = payload)\n",
    "\n",
    "    return json.loads(responce.text)\n",
    "data = getPosts()\n",
    "print(data)"
   ]
  },
  {
   "cell_type": "markdown",
   "id": "81b3c900-be15-494c-bd3e-9e4514264797",
   "metadata": {},
   "source": [
    "COMMENTS"
   ]
  },
  {
   "cell_type": "code",
   "execution_count": 6,
   "id": "e8306554-4191-4029-a19d-e3cb37a0a3f4",
   "metadata": {},
   "outputs": [
    {
     "name": "stdout",
     "output_type": "stream",
     "text": [
      "{'id': 111797, 'post': 7828, 'parent': 111791, 'author': 26393, 'author_name': 'Hùng', 'author_email': 'hungmta12@gmail.com', 'author_url': '', 'author_ip': '14.255.148.128', 'author_user_agent': 'python-requests/2.25.1', 'date': '2021-08-18T12:42:41', 'date_gmt': '2021-08-18T05:42:40', 'content': {'rendered': '<p>aaaaaaaaaaaaac</p>\\n', 'raw': 'aaaaaaaaaaaaac'}, 'link': 'https://reviewbook.org/falling-for-jillian/comment-page-1/#comment-111797', 'status': 'approved', 'type': 'comment', 'author_avatar_urls': {'24': 'https://secure.gravatar.com/avatar/5e792615445f9b286da3f382d5c111ff?s=24&d=identicon&r=g', '48': 'https://secure.gravatar.com/avatar/5e792615445f9b286da3f382d5c111ff?s=48&d=identicon&r=g', '96': 'https://secure.gravatar.com/avatar/5e792615445f9b286da3f382d5c111ff?s=96&d=identicon&r=g'}, 'meta': [], '_links': {'self': [{'href': 'https://reviewbook.org/wp-json/wp/v2/comments/111797'}], 'collection': [{'href': 'https://reviewbook.org/wp-json/wp/v2/comments'}], 'author': [{'embeddable': True, 'href': 'https://reviewbook.org/wp-json/wp/v2/users/26393'}], 'up': [{'embeddable': True, 'post_type': 'post', 'href': 'https://reviewbook.org/wp-json/wp/v2/posts/7828'}], 'in-reply-to': [{'embeddable': True, 'href': 'https://reviewbook.org/wp-json/wp/v2/comments/111791'}]}}\n"
     ]
    }
   ],
   "source": [
    "# POST\n",
    "import requests\n",
    "import base64\n",
    "import json\n",
    "\n",
    "\n",
    "\n",
    "# print(deEmojify(text))\n",
    "url = \"https://site_name/wp-json/wp/v2/\"\n",
    "# https://site_name/wp-admin/edit.php\n",
    "user = \"user_name\"\n",
    "password = \"a9bO c0j4 VM34 SIMm S8OC tvc6\".replace(\" \",\"\")\n",
    "credentials = f\"{user} : {password}\"\n",
    "token = base64.b64encode(credentials.encode())\n",
    "\n",
    "\n",
    "def createComment():\n",
    "\n",
    "    header = {\n",
    "                'Authorization': f'Basic {token.decode(\"utf-8\")}',     \n",
    "        }\n",
    "    \n",
    "    payload = {\n",
    "        'author_name': 'Hùng', \n",
    "        'author': 26393, \n",
    "        'content': \"aaaaaaaaaaaaac\",\n",
    "        'post': 7828,\n",
    "        'parent': 111791,\n",
    "#         'status': 'approved'\n",
    "    }\n",
    "    responce = requests.request(\"POST\", f\"{url}comments\", headers=header, json = payload)\n",
    "\n",
    "    return json.loads(responce.text)\n",
    "data = createComment()\n",
    "print(data)"
   ]
  },
  {
   "cell_type": "code",
   "execution_count": 3,
   "id": "8791fff4-9638-4d79-97c0-f4cbe0eac840",
   "metadata": {},
   "outputs": [],
   "source": [
    "def getComments():\n",
    "\n",
    "    header = {\n",
    "                'Authorization': f'Basic {token.decode(\"utf-8\")}',     \n",
    "        }\n",
    "    payload = {\n",
    "        \"post\": 742,\n",
    "        \"content\":  \"\"\"First, theoretically this could be read as stand-alone. However, there is a larger story that is not tied up by the ending. In fact, there are several questions, including no clear reason for why Sophie was brought back in time. She is supposed to be important, and watch out for whoever is brought back in time in the future. The plot was … interesting enough to keep me reading, and wanting to see what happens next. Fairly well edited.\\n\\nSophie lives in 2017 with her husband, Jamie. Sophie has a heart condition, and is slowly dying. \n",
    "        One day, Sophie simply vanishes. One minute she is lying in bed while Jamie steps out to speak to Sophie's sister. The next minute, Jamie steps back in to find an empty bed. While Jamie frantically searches for his wife, Sophie awakens to find herself in a snow, just outside a barn. She is found and brought into the home of Dr. and Mrs. Michael Wade. They care for her, checking her health and providing food, shelter, and clothing appropriate for 1862. Wait, what? Somehow, Sophie has not only found herself outside in the snow, but also on the other side of the country - she started out \n",
    "        in Portland, Oregon and is now near Harrisburg, Pennsylvania - but also in another time. Sophie spends several months with the Wade's, missing Jamie and fighting off the advances of the neighbor, Richard Madden. Meanwhile, Jamie is desperate to find his wife until one day he steps into his library and finds himself shot in a field in another time. Fortunately, he had just so happened to have put on his wedding clothes - which just so happened to have been those of a Union lieutenant. (Long story) Anyway, when Jamie wakes up, he doesn't remember who he is. Eventually, Sophie and Jamie cross paths. Sophie recognizes Jamie, but he has no memory of her. Will he remember his wife in time to save her from Richard? Will Sophie and Jamie \n",
    "        figure out why they have been brought back in time?\\n\\nThis is interesting enough to look forward to seeing where the plot will go. So many questions remain to be answered - chief among them, why has Sophie ultimately been brought back? The answer seems to be to keep history on track, but how exactly is she supposed to do that? I guess we will have to keep reading to find out. Enjoy.\"\"\",\n",
    "        \"author_name\":\"actionandadventure\",\n",
    "        \"author\":8,\n",
    "    }\n",
    "    responce = requests.request(\"GET\", f\"{url}comments/111795\", headers=header)\n",
    "\n",
    "    return json.loads(responce.text)\n",
    "data = getComments()"
   ]
  },
  {
   "cell_type": "code",
   "execution_count": 7,
   "id": "453fdf0c-5243-4933-a864-fcd41f5d4cf6",
   "metadata": {},
   "outputs": [
    {
     "name": "stdout",
     "output_type": "stream",
     "text": [
      "[(0, 1), (1, 1), (2, 1), (3, 1), (4, 1), (5, 1), (6, 1), (7, 1), (8, 1), (9, 1)]\n"
     ]
    }
   ],
   "source": [
    "a = (1,2)\n",
    "b = []\n",
    "for i in range(10):\n",
    "    b.append((i,1))\n",
    "print(b)"
   ]
  }
 ],
 "metadata": {
  "kernelspec": {
   "display_name": "Python 3",
   "language": "python",
   "name": "python3"
  },
  "language_info": {
   "codemirror_mode": {
    "name": "ipython",
    "version": 3
   },
   "file_extension": ".py",
   "mimetype": "text/x-python",
   "name": "python",
   "nbconvert_exporter": "python",
   "pygments_lexer": "ipython3",
   "version": "3.8.8"
  }
 },
 "nbformat": 4,
 "nbformat_minor": 5
}
