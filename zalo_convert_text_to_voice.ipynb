{
 "cells": [
  {
   "cell_type": "code",
   "execution_count": 51,
   "id": "c3a8f222-7525-4fd4-bc48-1c460b9d9b6c",
   "metadata": {},
   "outputs": [],
   "source": [
    "import requests\n",
    "def text_to_audio(text, api_key, speed = 1.0, speaker_id = 1, encode_type = \"MP3\"):\n",
    "    url     = 'https://api.zalo.ai/v1/tts/synthesize'\n",
    "    payload = { \n",
    "                  \"input\" : text,\n",
    "                  \"speed\": speed,\n",
    "                  \"encode_type\": encode_type,\n",
    "                  \"speaker_id\": speaker_id\n",
    "              }\n",
    "    headers = {\"apikey\": api_key}\n",
    "    res = requests.post(url, data=payload, headers=headers)\n",
    "    return res.json()[\"data\"][\"url\"]\n",
    "try:\n",
    "    url = text_to_audio(\" Nếu bạn muốn thăng tiến lên CTO, manager, hoặc muốn đi theo hướng nghiên cứu, hay đi theo các lĩnh vực đặc biệt như AI, Machine learning, Blockchain thì nên học lên cao nhé. Còn nếu bạn muốn làm dev thôi (junior, senior, principle,...) thì ko bắt buộc phải học lên thạc sĩ đâu. Mình lưu ý là ko cần học thạc sĩ ko có nghĩa là ko học gì nhé. Dù là dev thôi thì bạn cũng cần học thêm rất nhiều thứ để đáp ứng nhu cầu công việc.\", \"3IFE6H8yHolGiaUlo9qAttSXJxJ7zLXu\", encode_type = \"MP3\")\n",
    "except:\n",
    "    pass\n",
    "mp3 = requests.get(url, cookies = {\n",
    "    \"cookie\": \"zai_did=8k9uAj3FNiTevcSSryzXoYYo64p5p67B8RSQGJOr; _zlang=vn; _ga=GA1.2.592451069.1641265879; _gid=GA1.2.912009597.1641265879; zpsid=eMKnVbo-PZEoL6WWFjnYSAjLQ24vtNXsgKbnV6E9EqkrN59gJu8QERXBLGnRmG0ke4f7A6gM51cTRbqf3Raw8_vjDH0oa4aHsHm3CHhVR2h82WKBLm; zai_sid=jPd8ODWWCrQicCXXto4fKAw4qJo5TMfjif7oAgb-In-_XlLClJrH2AU7vsYCQaK_cgFzQUj5QmNve9LGr6mODzxHet7y8pqCpyUbIzjl42_nkwn3P0; __zi=3000.SSZzejyD0jydXQcYsa00d3xBfxgP71AM8Tdbg8yDLSbdsEJcn0nLo63PhEN23Hl8OzsguS8A6iK.1\"\n",
    "})\n",
    "file_name = \"a.mp3\"\n",
    "with open(file_name,\"rb+\") as f:\n",
    "    f.write(mp3.content)"
   ]
  }
 ],
 "metadata": {
  "kernelspec": {
   "display_name": "Python 3",
   "language": "python",
   "name": "python3"
  },
  "language_info": {
   "codemirror_mode": {
    "name": "ipython",
    "version": 3
   },
   "file_extension": ".py",
   "mimetype": "text/x-python",
   "name": "python",
   "nbconvert_exporter": "python",
   "pygments_lexer": "ipython3",
   "version": "3.8.8"
  }
 },
 "nbformat": 4,
 "nbformat_minor": 5
}
